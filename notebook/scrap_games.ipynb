{
 "cells": [
  {
   "cell_type": "code",
   "execution_count": null,
   "id": "efccf6b9-e6f8-4028-824e-d86cf89f274e",
   "metadata": {},
   "outputs": [],
   "source": [
    "import pandas as pd"
   ]
  },
  {
   "cell_type": "code",
   "execution_count": null,
   "id": "dad73730-5879-45a0-b042-5e5d857d3f80",
   "metadata": {},
   "outputs": [],
   "source": [
    "from bs4 import BeautifulSoup"
   ]
  },
  {
   "cell_type": "code",
   "execution_count": null,
   "id": "8061af3b-9863-43a4-931d-5812faebbcba",
   "metadata": {},
   "outputs": [],
   "source": [
    "import requests, json, re, datetime, os, uuid\n",
    "from urllib.parse import urljoin"
   ]
  },
  {
   "cell_type": "code",
   "execution_count": null,
   "id": "4fcaa722-e85f-4954-92e5-fc4ab2e2788d",
   "metadata": {},
   "outputs": [],
   "source": [
    "from icalendar import Calendar, Event, vText\n",
    "import icalendar\n",
    "import pytz"
   ]
  },
  {
   "cell_type": "code",
   "execution_count": null,
   "id": "2a216b15-96a6-47bb-bea5-3667e6ce6972",
   "metadata": {},
   "outputs": [],
   "source": [
    "def get_field_address(url):\n",
    "    res = requests.get(url)\n",
    "    soup = BeautifulSoup(res.text, 'html.parser')\n",
    "    ul = soup.find_all(\"ul\", {\"class\": \"abssa_list\"})\n",
    "    if len(ul) == 0:\n",
    "        return \"Not found\", \"Not found\"\n",
    "    locality = re.search(\"Localité:(.+)\", ul[3].text).group(1).strip()\n",
    "    street = re.search(\"Rue:(.+)\", ul[3].text).group(1).strip()\n",
    "    name = re.search(\"Situation:(.+)\", ul[3].text).group(1).strip()\n",
    "    if len(name)>0:\n",
    "        address = [name]\n",
    "    else:\n",
    "        address = []\n",
    "    address.append(street)\n",
    "    address.append(locality)\n",
    "    \n",
    "    address = \", \".join(address)\n",
    "    \n",
    "    car_access = \"\"\n",
    "    for li in ul[3].find_all(\"li\"):\n",
    "        if li.span:\n",
    "            if li.span.text == \"Acces voiture\":\n",
    "                car_access = li.text.strip()\n",
    "\n",
    "    return address, car_access"
   ]
  },
  {
   "cell_type": "code",
   "execution_count": null,
   "id": "fdedcaf1-9f41-42ec-85a0-346bdf01809d",
   "metadata": {},
   "outputs": [],
   "source": [
    "def parse_day(res, game_date, day_i):\n",
    "    events = []\n",
    "    for j in range(len(res)):\n",
    "        division = res[j][\"d\"]\n",
    "        games = res[j][\"m\"]\n",
    "        for game in games:\n",
    "            event = {}\n",
    "            if \":\" in game[\"ds\"]:\n",
    "                time = game[\"ds\"]\n",
    "                home_team = game[\"ci\"]\n",
    "                away_team = game[\"co\"]\n",
    "                home_url_name = game[\"uti\"]\n",
    "                home_id = game[\"mi\"]\n",
    "                home_url = f\"http://www.abssa.org/team/{home_id}/{home_url_name}\"\n",
    "                home_address, car_access = get_field_address(home_url)\n",
    "\n",
    "                day, month, year = game_date.split(\"/\")\n",
    "                hour, minute = time.split(\":\")\n",
    "\n",
    "                event[\"summary\"] = f\"ABSSA {division} DAY {day_i}: {home_team} - {away_team}\"\n",
    "                event[\"location\"] = home_address\n",
    "                event[\"start\"] = datetime.datetime(int(year), int(month), int(day), int(hour), int(minute), tzinfo=pytz.timezone(\"Europe/Brussels\"))\n",
    "                event[\"end\"] = event[\"start\"]+datetime.timedelta(minutes=35*2+15)\n",
    "                event[\"description\"] = car_access\n",
    "                \n",
    "                event[\"home_team\"] = home_team\n",
    "                event[\"away_team\"] = away_team\n",
    "                event[\"division\"] = division\n",
    "                events.append(event)\n",
    "    return events"
   ]
  },
  {
   "cell_type": "code",
   "execution_count": null,
   "id": "dd9458a4-606e-4f33-b877-3bef5da5fa26",
   "metadata": {},
   "outputs": [],
   "source": [
    "def get_tz():\n",
    "    tzc = icalendar.Timezone()\n",
    "    tzc.add('tzid', 'Europe/Brussels')\n",
    "    tzc.add('x-lic-location', 'Europe/Brussels')\n",
    "\n",
    "    tzs = icalendar.TimezoneStandard()\n",
    "    tzs.add('tzname', 'CET')\n",
    "    tzs.add('dtstart', datetime.datetime(1970, 10, 25, 3, 0, 0))\n",
    "    tzs.add('rrule', {'freq': 'yearly', 'bymonth': 10, 'byday': '-1su'})\n",
    "    tzs.add('TZOFFSETFROM', datetime.timedelta(hours=2))\n",
    "    tzs.add('TZOFFSETTO', datetime.timedelta(hours=1))\n",
    "\n",
    "    tzd = icalendar.TimezoneDaylight()\n",
    "    tzd.add('tzname', 'CEST')\n",
    "    tzd.add('dtstart', datetime.datetime(1970, 3, 29, 2, 0, 0))\n",
    "    tzs.add('rrule', {'freq': 'yearly', 'bymonth': 3, 'byday': '-1su'})\n",
    "    tzd.add('TZOFFSETFROM', datetime.timedelta(hours=1))\n",
    "    tzd.add('TZOFFSETTO', datetime.timedelta(hours=2))\n",
    "\n",
    "    tzc.add_component(tzs)\n",
    "    tzc.add_component(tzd)\n",
    "    return tzc\n",
    "    "
   ]
  },
  {
   "cell_type": "code",
   "execution_count": null,
   "id": "38a814c3-724d-488b-9c94-67c3f6322b99",
   "metadata": {},
   "outputs": [],
   "source": [
    "def generate_cal(events, team):\n",
    "    cal = Calendar()\n",
    "    cal['X-WR-CALNAME'] = f'ABSSA {team}'\n",
    "    cal['PRODID'] = str(uuid.uuid4())\n",
    "    cal['VERSION'] = '0.1'\n",
    "    cal.add_component(get_tz())\n",
    "    for event in events:\n",
    "        if team in (event[\"home_team\"], event[\"away_team\"]):\n",
    "            ev = Event()\n",
    "            ev.add('DTSTAMP', datetime.datetime.now())\n",
    "            ev['uid'] = str(uuid.uuid4())\n",
    "            \n",
    "            ev.add('dtstart', event[\"start\"])\n",
    "            ev.add('dtend', event[\"end\"])\n",
    "\n",
    "            ev['location'] = vText(event[\"location\"])\n",
    "            ev['summary'] = vText(event[\"summary\"])\n",
    "            ev['description'] = vText(event[\"description\"])\n",
    "            cal.add_component(ev)\n",
    "    return cal"
   ]
  },
  {
   "cell_type": "code",
   "execution_count": null,
   "id": "99956be4-e172-4ece-afe7-2e62e3fe946f",
   "metadata": {},
   "outputs": [],
   "source": [
    "def url_safen(s):\n",
    "    s = s.lower()\n",
    "    s = s.replace(\" \", \"_\")\n",
    "    s = s.replace(\".\", \"_\")\n",
    "    s = s.replace(\"'\", \"_\")\n",
    "    s = s.replace(\"-\", \"_\")\n",
    "    s = s.replace(\"(\", \"_\")\n",
    "    s = s.replace(\")\", \"_\")\n",
    "    return s"
   ]
  },
  {
   "cell_type": "code",
   "execution_count": null,
   "id": "d1dfd059-ab9f-4d21-9ea2-6452ab5f5a08",
   "metadata": {},
   "outputs": [],
   "source": [
    "url = \"http://www.abssa.org/championnat\"\n",
    "res = requests.get(url)\n",
    "soup = BeautifulSoup(res.text, 'html.parser')\n",
    "ul = soup.find_all(\"ul\", {\"class\": \"dropdown-menu\"})"
   ]
  },
  {
   "cell_type": "code",
   "execution_count": null,
   "id": "64e49562-d1a9-4a9a-aca5-08bb27bebd01",
   "metadata": {},
   "outputs": [],
   "source": [
    "lis = ul[1].find_all(\"li\")\n",
    "game_days = []\n",
    "game_days_value = []\n",
    "for i in range(len(lis)):\n",
    "    li = lis[i]\n",
    "    game_days.append(li.text)\n",
    "    game_days_value.append(li.a[\"data-value\"])"
   ]
  },
  {
   "cell_type": "code",
   "execution_count": null,
   "id": "883b4c52-4039-459f-bad3-8a82f0ac6258",
   "metadata": {
    "tags": []
   },
   "outputs": [],
   "source": [
    "events = []\n",
    "for i in range(len(game_days)):\n",
    "    url = f\"http://www.abssa.org/amatches/{game_days_value[i]}\"\n",
    "    res = requests.get(url)\n",
    "    game_date = game_days[i]\n",
    "    res = json.loads(res.text)\n",
    "    \n",
    "    day_event = parse_day(res, game_date, i+1)\n",
    "    \n",
    "    events.extend(day_event)"
   ]
  },
  {
   "cell_type": "code",
   "execution_count": null,
   "id": "97e3cde2-a4fc-43cd-a0d2-6ca67d7cd5cd",
   "metadata": {},
   "outputs": [],
   "source": [
    "divisions = set()\n",
    "teams = {}\n",
    "for e in events:\n",
    "    divisions.add(e['division'])\n",
    "    \n",
    "for d in divisions:\n",
    "    teams_div = set()\n",
    "    for e in events:\n",
    "        if d == e['division']:\n",
    "            teams_div.add(e['home_team'])\n",
    "            teams_div.add(e['away_team'])\n",
    "        teams[d] = teams_div"
   ]
  },
  {
   "cell_type": "code",
   "execution_count": null,
   "id": "c36d9269-0b63-493d-8599-e26f5436d7ac",
   "metadata": {},
   "outputs": [],
   "source": [
    "base_path = \"../ics/2122\"\n",
    "season = \"2122\"\n",
    "base_url = \"http://icalx.com/public/simon123456/abssa_{season}_{divison}_{team}\"\n",
    "\n",
    "user = \"simon123456\"\n",
    "pw = \"z3Fz!YmFxtZE6xT\"\n",
    "\n",
    "write_disk = True\n",
    "write_icalx = False\n",
    "\n",
    "for d in divisions:\n",
    "    for t in teams[d]:\n",
    "        cal = generate_cal(events, t)\n",
    "        t_safe = url_safen(t)\n",
    "        \n",
    "        if write_disk:\n",
    "            cal_dir = os.path.join(base_path, str(d))\n",
    "            cal_path = os.path.join(cal_dir, f\"{t_safe}.ics\")\n",
    "            if not os.path.exists(cal_dir):\n",
    "                os.makedirs(cal_dir)\n",
    "            with open(cal_path, 'wb') as f:\n",
    "                f.write(cal.to_ical())\n",
    "            \n",
    "        if write_icalx:\n",
    "            cal_url = base_url.format(season=season, divison=d, team=t_safe)\n",
    "            req = requests.put(cal_url, auth=(user, pw), data=cal.to_ical())\n",
    "            print(cal_url)\n",
    "            print(req.status_code)"
   ]
  },
  {
   "cell_type": "code",
   "execution_count": null,
   "id": "9a9eb555-2403-4ae1-be53-b01811bfa545",
   "metadata": {},
   "outputs": [],
   "source": []
  },
  {
   "cell_type": "code",
   "execution_count": null,
   "id": "35294dad-d6d5-4f39-8675-76948add360b",
   "metadata": {},
   "outputs": [],
   "source": [
    "urljoin(base_url, str(d))"
   ]
  },
  {
   "cell_type": "code",
   "execution_count": null,
   "id": "9087ec18-0894-46a5-bb7a-21b82682cfa8",
   "metadata": {},
   "outputs": [],
   "source": [
    "icalx_url = \"http://icalx.com/public/simon123456/tst\"\n",
    "user = \"simon123456\"\n",
    "pw = \"z3Fz!YmFxtZE6xT\"\n",
    "req = requests.put(icalx_url, auth=(user, pw), data=cal.to_ical())"
   ]
  },
  {
   "cell_type": "code",
   "execution_count": null,
   "id": "292ab43d-61f1-417c-8c7b-c426b368758c",
   "metadata": {},
   "outputs": [],
   "source": [
    "dir(req)"
   ]
  },
  {
   "cell_type": "code",
   "execution_count": null,
   "id": "cd98d0c8-9c29-403d-8692-5838403471b1",
   "metadata": {},
   "outputs": [],
   "source": [
    "tz = \"BEGIN:VTIMEZONE TZID:Europe/Brussels X-LIC-LOCATION:Europe/Brussels BEGIN:DAYLIGHT TZOFFSETFROM:+0100 TZOFFSETTO:+0200 TZNAME:CEST DTSTART:19700329T020000 RRULE:FREQ=YEARLY;BYMONTH=3;BYDAY=-1SU END:DAYLIGHT BEGIN:STANDARD TZOFFSETFROM:+0200 TZOFFSETTO:+0100 TZNAME:CET DTSTART:19701025T030000 RRULE:FREQ=YEARLY;BYMONTH=10;BYDAY=-1SU END:STANDARD END:VTIMEZONE\""
   ]
  },
  {
   "cell_type": "code",
   "execution_count": null,
   "id": "99d2c206-baf3-4574-abac-8e8aa301244f",
   "metadata": {},
   "outputs": [],
   "source": [
    "print(cal.to_ical())"
   ]
  },
  {
   "cell_type": "code",
   "execution_count": null,
   "id": "86b36c00-0f30-46f0-a835-363968920a74",
   "metadata": {},
   "outputs": [],
   "source": [
    "cal.to_ical()"
   ]
  },
  {
   "cell_type": "code",
   "execution_count": null,
   "id": "4014cde5-83c2-4f2f-a145-c155902d00c3",
   "metadata": {},
   "outputs": [],
   "source": [
    "cal.to_ical().decode().encode('latin-1')"
   ]
  }
 ],
 "metadata": {
  "kernelspec": {
   "display_name": "Python 3.10.0 ('abssa')",
   "language": "python",
   "name": "python3"
  },
  "language_info": {
   "codemirror_mode": {
    "name": "ipython",
    "version": 3
   },
   "file_extension": ".py",
   "mimetype": "text/x-python",
   "name": "python",
   "nbconvert_exporter": "python",
   "pygments_lexer": "ipython3",
   "version": "3.10.0"
  },
  "vscode": {
   "interpreter": {
    "hash": "df61b6a7993e78f483c559e579922d3405d406216a47bb41f639e1af45a9fb63"
   }
  }
 },
 "nbformat": 4,
 "nbformat_minor": 5
}
